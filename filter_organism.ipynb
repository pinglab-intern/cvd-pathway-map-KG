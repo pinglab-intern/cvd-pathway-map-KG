{
  "nbformat": 4,
  "nbformat_minor": 0,
  "metadata": {
    "colab": {
      "name": "filter_organism.ipynb",
      "provenance": [],
      "collapsed_sections": [],
      "authorship_tag": "ABX9TyMqwUufJR25hSPAV1VQwf6x"
    },
    "kernelspec": {
      "name": "python3",
      "display_name": "Python 3"
    },
    "language_info": {
      "name": "python"
    }
  },
  "cells": [
    {
      "cell_type": "code",
      "metadata": {
        "colab": {
          "base_uri": "https://localhost:8080/"
        },
        "id": "42tSzx_SnAzS",
        "outputId": "ba897c2b-6153-4816-e0ed-536de7272934"
      },
      "source": [
        "# Connect notebook to Google Drive\n",
        "from google.colab import drive\n",
        "drive.mount('/content/drive', force_remount=True)"
      ],
      "execution_count": 1,
      "outputs": [
        {
          "output_type": "stream",
          "text": [
            "Mounted at /content/drive\n"
          ],
          "name": "stdout"
        }
      ]
    },
    {
      "cell_type": "code",
      "metadata": {
        "colab": {
          "base_uri": "https://localhost:8080/"
        },
        "id": "-DJ845oUnEQQ",
        "outputId": "f0ffaf4b-bb45-4da7-a07f-17300317fac9"
      },
      "source": [
        "# Navigate to the shared drive folder\n",
        "%cd /content/drive/'My Drive'/'Cardiovascular Knowledge Graph'\n",
        "!pwd\n",
        "!ls"
      ],
      "execution_count": 2,
      "outputs": [
        {
          "output_type": "stream",
          "text": [
            "/content/drive/My Drive/Cardiovascular Knowledge Graph\n",
            "/content/drive/My Drive/Cardiovascular Knowledge Graph\n",
            "cardiac_conduction.ipynb  data\toutput\tUntitled\n"
          ],
          "name": "stdout"
        }
      ]
    },
    {
      "cell_type": "code",
      "metadata": {
        "colab": {
          "base_uri": "https://localhost:8080/"
        },
        "id": "uAvkY3L1nJXq",
        "outputId": "74be98d1-23ef-4e44-ec3a-0338b1875c0f"
      },
      "source": [
        "%cd output\n",
        "!ls"
      ],
      "execution_count": 3,
      "outputs": [
        {
          "output_type": "stream",
          "text": [
            "/content/drive/My Drive/Cardiovascular Knowledge Graph/output\n",
            "cardiac_conduction_all_organisms.csv  cardiac_conduction.json\n"
          ],
          "name": "stdout"
        }
      ]
    },
    {
      "cell_type": "code",
      "metadata": {
        "id": "X5iPcw4dnNqo"
      },
      "source": [
        "import pandas as pd\n",
        "import re\n",
        "import json\n",
        "\n",
        "def filter_organisms(protein_df, organisms):\n",
        "  \"\"\"\n",
        "  protein_df -> headers: [Protein ID, Reactome Pathway ID]\n",
        "  organisms -> list of organisms required; ['HSA','MMU','RNO','SSC']\n",
        "  HSA -> Homo sapien (Human)\n",
        "  MMU -> Mus musculus (Mouse)\n",
        "  RNO -> Rattus norvegicus (Rat)\n",
        "  SSC -> Sus scrofa (Pig)\t\n",
        "  \"\"\"\n",
        "  accession = list(protein_df['Protein ID'])\n",
        "  pathways = list(protein_df['Reactome Pathway ID'])\n",
        "\n",
        "  filtered_pathways = []\n",
        "  filtered_proteins = []\n",
        "\n",
        "  for i in range(len(accession)):\n",
        "    pathway_id = pathways[i]\n",
        "    accession_id = accession[i]\n",
        "\n",
        "    for x in organisms:\n",
        "      if x in pathway_id:\n",
        "        filtered_pathways.append(pathway_id)\n",
        "        filtered_proteins.append(accession_id)\n",
        "      else:\n",
        "        pass\n",
        "\n",
        "  d = {'Protein ID' : filtered_proteins,\n",
        "       'Reactome Pathway ID' : filtered_pathways}\n",
        "\n",
        "  return pd.DataFrame(data = d)"
      ],
      "execution_count": 29,
      "outputs": []
    },
    {
      "cell_type": "code",
      "metadata": {
        "id": "K2g0EOHcpvDx"
      },
      "source": [
        "protein_pathway_df = pd.read_csv(\"cardiac_conduction_all_organisms.csv\")"
      ],
      "execution_count": 5,
      "outputs": []
    },
    {
      "cell_type": "code",
      "metadata": {
        "id": "V_docaWGr7xd"
      },
      "source": [
        "protein_pathway_df"
      ],
      "execution_count": null,
      "outputs": []
    },
    {
      "cell_type": "code",
      "metadata": {
        "colab": {
          "base_uri": "https://localhost:8080/",
          "height": 419
        },
        "id": "BosSBa-Ep3GN",
        "outputId": "7017710b-4e1d-47fc-cb72-1bec11f51a18"
      },
      "source": [
        "organisms = ['HSA','MMU','RNO','SSC']\n",
        "filtered_df = filter_organisms(protein_pathway_df, organisms)\n",
        "filtered_df"
      ],
      "execution_count": 31,
      "outputs": [
        {
          "output_type": "execute_result",
          "data": {
            "text/html": [
              "<div>\n",
              "<style scoped>\n",
              "    .dataframe tbody tr th:only-of-type {\n",
              "        vertical-align: middle;\n",
              "    }\n",
              "\n",
              "    .dataframe tbody tr th {\n",
              "        vertical-align: top;\n",
              "    }\n",
              "\n",
              "    .dataframe thead th {\n",
              "        text-align: right;\n",
              "    }\n",
              "</style>\n",
              "<table border=\"1\" class=\"dataframe\">\n",
              "  <thead>\n",
              "    <tr style=\"text-align: right;\">\n",
              "      <th></th>\n",
              "      <th>Protein ID</th>\n",
              "      <th>Reactome Pathway ID</th>\n",
              "    </tr>\n",
              "  </thead>\n",
              "  <tbody>\n",
              "    <tr>\n",
              "      <th>0</th>\n",
              "      <td>A0A0G2K548</td>\n",
              "      <td>R-RNO-5576890</td>\n",
              "    </tr>\n",
              "    <tr>\n",
              "      <th>1</th>\n",
              "      <td>A5HKJ1</td>\n",
              "      <td>R-RNO-5576890</td>\n",
              "    </tr>\n",
              "    <tr>\n",
              "      <th>2</th>\n",
              "      <td>O08962</td>\n",
              "      <td>R-RNO-5576890</td>\n",
              "    </tr>\n",
              "    <tr>\n",
              "      <th>3</th>\n",
              "      <td>P63161</td>\n",
              "      <td>R-RNO-5576890</td>\n",
              "    </tr>\n",
              "    <tr>\n",
              "      <th>4</th>\n",
              "      <td>Q71FD8</td>\n",
              "      <td>R-RNO-5576890</td>\n",
              "    </tr>\n",
              "    <tr>\n",
              "      <th>...</th>\n",
              "      <td>...</td>\n",
              "      <td>...</td>\n",
              "    </tr>\n",
              "    <tr>\n",
              "      <th>514</th>\n",
              "      <td>Q8BUW1</td>\n",
              "      <td>R-MMU-5576886</td>\n",
              "    </tr>\n",
              "    <tr>\n",
              "      <th>515</th>\n",
              "      <td>Q8JZN3</td>\n",
              "      <td>R-MMU-5576886</td>\n",
              "    </tr>\n",
              "    <tr>\n",
              "      <th>516</th>\n",
              "      <td>Q8R1P5</td>\n",
              "      <td>R-MMU-5576886</td>\n",
              "    </tr>\n",
              "    <tr>\n",
              "      <th>517</th>\n",
              "      <td>Q9JK62</td>\n",
              "      <td>R-MMU-5576886</td>\n",
              "    </tr>\n",
              "    <tr>\n",
              "      <th>518</th>\n",
              "      <td>Q9Z2T1</td>\n",
              "      <td>R-MMU-5576886</td>\n",
              "    </tr>\n",
              "  </tbody>\n",
              "</table>\n",
              "<p>519 rows × 2 columns</p>\n",
              "</div>"
            ],
            "text/plain": [
              "     Protein ID Reactome Pathway ID\n",
              "0    A0A0G2K548       R-RNO-5576890\n",
              "1        A5HKJ1       R-RNO-5576890\n",
              "2        O08962       R-RNO-5576890\n",
              "3        P63161       R-RNO-5576890\n",
              "4        Q71FD8       R-RNO-5576890\n",
              "..          ...                 ...\n",
              "514      Q8BUW1       R-MMU-5576886\n",
              "515      Q8JZN3       R-MMU-5576886\n",
              "516      Q8R1P5       R-MMU-5576886\n",
              "517      Q9JK62       R-MMU-5576886\n",
              "518      Q9Z2T1       R-MMU-5576886\n",
              "\n",
              "[519 rows x 2 columns]"
            ]
          },
          "metadata": {
            "tags": []
          },
          "execution_count": 31
        }
      ]
    },
    {
      "cell_type": "code",
      "metadata": {
        "id": "IzNd6ZXttoD8"
      },
      "source": [
        "filtered_df.to_csv(\"cardiac_conduction_filtered.csv\")"
      ],
      "execution_count": 32,
      "outputs": []
    },
    {
      "cell_type": "code",
      "metadata": {
        "id": "lyMCtlpiwmgO"
      },
      "source": [
        "filtered_df.to_json(\"cardiac_conduction_filtered.json\", orient = 'records')"
      ],
      "execution_count": 33,
      "outputs": []
    },
    {
      "cell_type": "code",
      "metadata": {
        "id": "xCG1U5zxwudZ"
      },
      "source": [
        ""
      ],
      "execution_count": null,
      "outputs": []
    }
  ]
}
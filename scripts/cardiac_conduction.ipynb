{
 "cells": [
  {
   "cell_type": "code",
   "execution_count": null,
   "metadata": {
    "colab": {
     "base_uri": "https://localhost:8080/"
    },
    "id": "wM5rqEaIVzZT",
    "outputId": "5f512614-f276-4f99-f1fe-5873cd7a52fc"
   },
   "outputs": [
    {
     "name": "stdout",
     "output_type": "stream",
     "text": [
      "Mounted at /content/drive\n"
     ]
    }
   ],
   "source": [
    "# Connect notebook to Google Drive\n",
    "from google.colab import drive\n",
    "drive.mount('/content/drive', force_remount=True)"
   ]
  },
  {
   "cell_type": "code",
   "execution_count": null,
   "metadata": {
    "colab": {
     "base_uri": "https://localhost:8080/"
    },
    "id": "ZkMKcAYxWT-V",
    "outputId": "c215690d-c471-4d59-e40f-516aba80f62c"
   },
   "outputs": [
    {
     "name": "stdout",
     "output_type": "stream",
     "text": [
      "/content/drive/My Drive/Cardiovascular Knowledge Graph\n",
      "/content/drive/My Drive/Cardiovascular Knowledge Graph\n",
      "cardiac_conduction.ipynb  data\n"
     ]
    }
   ],
   "source": [
    "# Navigate to the shared drive folder\n",
    "%cd /content/drive/'My Drive'/'Cardiovascular Knowledge Graph'\n",
    "!pwd\n",
    "!ls"
   ]
  },
  {
   "cell_type": "code",
   "execution_count": null,
   "metadata": {
    "colab": {
     "base_uri": "https://localhost:8080/"
    },
    "id": "WoW0GvVDWces",
    "outputId": "92b3f90e-8911-4383-a473-0c3742aa19c2"
   },
   "outputs": [
    {
     "name": "stdout",
     "output_type": "stream",
     "text": [
      "/content/drive/My Drive/Cardiovascular Knowledge Graph/data\n"
     ]
    }
   ],
   "source": [
    "%cd data"
   ]
  },
  {
   "cell_type": "code",
   "execution_count": 3,
   "metadata": {
    "id": "nmqsbSHpXLfi"
   },
   "outputs": [],
   "source": [
    "import pandas as pd\n",
    "import re\n",
    "import json\n",
    "\n",
    "def extract_main_pathway(file_name, pathway_name = 'Cardiac conduction'):\n",
    "    \"\"\"\n",
    "    extracts main pathway IDs with the selected pathway_name\n",
    "    file_name : UniProt2Reactome_All_Levels.txt\n",
    "    \"\"\"\n",
    "    database = open(file_name, 'r')\n",
    "    pathway_string = []\n",
    "    main_pathways = []\n",
    "\n",
    "    for line in database:\n",
    "        if pathway_name in line:\n",
    "            pathway_string.append(line)\n",
    "\n",
    "    for k in pathway_string:\n",
    "        indice = [m.start() for m in re.finditer('\\t', k)] #extracts indices for '\\t' in pathway_string\n",
    "        main_pathways.append(k[indice[0]+1 : indice[1]])\n",
    "\n",
    "    return main_pathways\n",
    "\n",
    "def pathway_hierarchy(main_file, hierarchy_file, pathway_name = 'Cardiac conduction'):\n",
    "    \"\"\"\n",
    "    extracts pathway IDs corresponding to the main pathway IDs from extract_main_pathway()\n",
    "    file_name : ReactomePathwaysRelation.txt\n",
    "    {pathway_name : [sub-pathways belonging to pathway_name]}\n",
    "    \"\"\"\n",
    "    #main_pathways = extract_main_pathway(file_name, pathway_name)\n",
    "    database = open(hierarchy_file, 'r')\n",
    "    main_pathways = list(set(extract_main_pathway(main_file, pathway_name)))\n",
    "    pathway_hierarchy = []\n",
    "\n",
    "    for line in database:\n",
    "        pathway_hierarchy.append(line)\n",
    "\n",
    "    hierarchy_dict = {}\n",
    "    for i in main_pathways:\n",
    "        hierarchy_dict[i] = []\n",
    "        for j in pathway_hierarchy:\n",
    "            t = j.split('\\t')\n",
    "            if i in t[0]:\n",
    "                indice = j.find('\\t')\n",
    "                hierarchy_dict[i].append(j[indice + 1 : -1])\n",
    "\n",
    "    return hierarchy_dict\n",
    "\n",
    "def pathway_to_protein(main_file, hierarchy_file, pathway_name = 'Cardiac conduction'):\n",
    "    \"\"\"\n",
    "    {sub-pathway ID : [protein accession IDs]}\n",
    "    %%under development ; still incomplete\n",
    "    \"\"\"\n",
    "    hierarchy_dict = pathway_hierarchy(main_file, hierarchy_file, pathway_name)\n",
    "    sub_pathways = []\n",
    "    for value in hierarchy_dict.values():\n",
    "        sub_pathways.append(value)\n",
    "\n",
    "    sub_pathways = list(set([j for i in sub_pathways for j in i]))\n",
    "    main_data_file = open(main_file, 'r')\n",
    "    main_database = []\n",
    "    for line in main_data_file:\n",
    "        main_database.append(line)\n",
    "\n",
    "    sub_pathway_protein = {}\n",
    "\n",
    "    for i in sub_pathways:\n",
    "        sub_pathway_protein[i] = []\n",
    "        for line in main_database:\n",
    "            indice = None\n",
    "            if i in line:\n",
    "                indice = [m.start() for m in re.finditer('\\t', line)]\n",
    "                sub_pathway_protein[i].append(line[0 : indice[0]])\n",
    "\n",
    "    return sub_pathway_protein\n",
    "\n",
    "def pathway_id_to_name(main_file, hierarchy_file, pathway_name = 'Cardiac conduction'):\n",
    "    \"\"\"\n",
    "    {pathway ID : pathway name}\n",
    "    \"\"\"\n",
    "    sub_pathway_protein = pathway_to_protein(main_file, hierarchy_file, pathway_name)\n",
    "    main_data_file = open(main_file, 'r')\n",
    "    main_database = []\n",
    "    for line in main_data_file:\n",
    "        main_database.append(line)\n",
    "\n",
    "    id_to_name = {}\n",
    "    for i in list(sub_pathway_protein.keys()):\n",
    "        for line in main_database:\n",
    "            if i in line:\n",
    "                indice = [m.start() for m in re.finditer('\\t', line)]\n",
    "                id_to_name[i] = line[indice[2] + 1: indice[3]]\n",
    "\n",
    "    return id_to_name\n",
    "\n",
    "def pathway_id_to_organism(main_file, hierarchy_file, pathway_name = 'Cardiac conduction'):\n",
    "    \"\"\"\n",
    "    {pathway ID : organism name}\n",
    "    \"\"\"\n",
    "    main_data_file = open(main_file, 'r')\n",
    "    main_database = []\n",
    "    for line in main_data_file:\n",
    "        main_database.append(line)\n",
    "\n",
    "    id_name_dict = pathway_id_to_name(main_file, hierarchy_file, pathway_name)\n",
    "    id_to_organism = {}\n",
    "\n",
    "    for i in list(id_name_dict.keys()):\n",
    "        for line in main_database:\n",
    "            if i in line:\n",
    "                indice = [m.start() for m in re.finditer('\\t', line)]\n",
    "                id_to_organism[i] = line[indice[4]+1:-1]\n",
    "\n",
    "    return id_to_organism\n",
    "\n",
    "def create_dataframe(main_file, hierarchy_file, pathway_name = 'Cardiac conduction'):\n",
    "    \"\"\"\n",
    "    create dataframe in the following format:\n",
    "    Protein ID | Reactome Pathway ID\n",
    "    %%under development\n",
    "    \"\"\"\n",
    "    sub_pathway_protein = pathway_to_protein(main_file, hierarchy_file, pathway_name)\n",
    "    proteins = []\n",
    "    corresponding_pathway = []\n",
    "    for key in list(sub_pathway_protein.keys()): #[list of pathway IDs]\n",
    "        for i in sub_pathway_protein[key]:\n",
    "            proteins.append(i)\n",
    "            corresponding_pathway.append(key)\n",
    "\n",
    "    d = {'Protein ID' : proteins, \n",
    "       'Reactome Pathway ID' : corresponding_pathway}\n",
    "\n",
    "    return pd.DataFrame(d)\n"
   ]
  },
  {
   "cell_type": "code",
   "execution_count": null,
   "metadata": {
    "id": "bDilalqtwiPP"
   },
   "outputs": [],
   "source": [
    "main_file_name = 'UniProt2Reactome_All_Levels.txt'\n",
    "hierarchy_file = 'ReactomePathwaysRelation.txt'"
   ]
  },
  {
   "cell_type": "code",
   "execution_count": null,
   "metadata": {
    "id": "rDS-805vnqn7"
   },
   "outputs": [],
   "source": [
    "pathway_protein_dict = pathway_to_protein(main_file_name, hierarchy_file)"
   ]
  },
  {
   "cell_type": "code",
   "execution_count": null,
   "metadata": {
    "colab": {
     "base_uri": "https://localhost:8080/"
    },
    "id": "QWeWNiXq3nTr",
    "outputId": "39381bce-210f-4d5c-cca1-7500f691a246"
   },
   "outputs": [
    {
     "data": {
      "text/plain": [
       "['A0A4V0IK35', 'O16638', 'O45313', 'Q95XD1']"
      ]
     },
     "execution_count": 10,
     "metadata": {
      "tags": []
     },
     "output_type": "execute_result"
    }
   ],
   "source": [
    "pathway_protein_dict['R-CEL-5576894']"
   ]
  },
  {
   "cell_type": "code",
   "execution_count": null,
   "metadata": {
    "colab": {
     "base_uri": "https://localhost:8080/",
     "height": 419
    },
    "id": "3c5xBV5xxwVe",
    "outputId": "9f730e3c-e021-4e65-8da0-1ce1b706e016"
   },
   "outputs": [
    {
     "data": {
      "text/html": [
       "<div>\n",
       "<style scoped>\n",
       "    .dataframe tbody tr th:only-of-type {\n",
       "        vertical-align: middle;\n",
       "    }\n",
       "\n",
       "    .dataframe tbody tr th {\n",
       "        vertical-align: top;\n",
       "    }\n",
       "\n",
       "    .dataframe thead th {\n",
       "        text-align: right;\n",
       "    }\n",
       "</style>\n",
       "<table border=\"1\" class=\"dataframe\">\n",
       "  <thead>\n",
       "    <tr style=\"text-align: right;\">\n",
       "      <th></th>\n",
       "      <th>Protein ID</th>\n",
       "      <th>Reactome Pathway ID</th>\n",
       "    </tr>\n",
       "  </thead>\n",
       "  <tbody>\n",
       "    <tr>\n",
       "      <th>0</th>\n",
       "      <td>A0A4V0IK35</td>\n",
       "      <td>R-CEL-5576894</td>\n",
       "    </tr>\n",
       "    <tr>\n",
       "      <th>1</th>\n",
       "      <td>O16638</td>\n",
       "      <td>R-CEL-5576894</td>\n",
       "    </tr>\n",
       "    <tr>\n",
       "      <th>2</th>\n",
       "      <td>O45313</td>\n",
       "      <td>R-CEL-5576894</td>\n",
       "    </tr>\n",
       "    <tr>\n",
       "      <th>3</th>\n",
       "      <td>Q95XD1</td>\n",
       "      <td>R-CEL-5576894</td>\n",
       "    </tr>\n",
       "    <tr>\n",
       "      <th>4</th>\n",
       "      <td>M9PD84</td>\n",
       "      <td>R-DME-5576893</td>\n",
       "    </tr>\n",
       "    <tr>\n",
       "      <th>...</th>\n",
       "      <td>...</td>\n",
       "      <td>...</td>\n",
       "    </tr>\n",
       "    <tr>\n",
       "      <th>1154</th>\n",
       "      <td>A0A5G2QVE3</td>\n",
       "      <td>R-SSC-5576894</td>\n",
       "    </tr>\n",
       "    <tr>\n",
       "      <th>1155</th>\n",
       "      <td>A0A5G2R345</td>\n",
       "      <td>R-SSC-5576894</td>\n",
       "    </tr>\n",
       "    <tr>\n",
       "      <th>1156</th>\n",
       "      <td>F1S8T5</td>\n",
       "      <td>R-SSC-5576894</td>\n",
       "    </tr>\n",
       "    <tr>\n",
       "      <th>1157</th>\n",
       "      <td>F1SBP4</td>\n",
       "      <td>R-SSC-5576894</td>\n",
       "    </tr>\n",
       "    <tr>\n",
       "      <th>1158</th>\n",
       "      <td>F1SU60</td>\n",
       "      <td>R-SSC-5576894</td>\n",
       "    </tr>\n",
       "  </tbody>\n",
       "</table>\n",
       "<p>1159 rows × 2 columns</p>\n",
       "</div>"
      ],
      "text/plain": [
       "      Protein ID Reactome Pathway ID\n",
       "0     A0A4V0IK35       R-CEL-5576894\n",
       "1         O16638       R-CEL-5576894\n",
       "2         O45313       R-CEL-5576894\n",
       "3         Q95XD1       R-CEL-5576894\n",
       "4         M9PD84       R-DME-5576893\n",
       "...          ...                 ...\n",
       "1154  A0A5G2QVE3       R-SSC-5576894\n",
       "1155  A0A5G2R345       R-SSC-5576894\n",
       "1156      F1S8T5       R-SSC-5576894\n",
       "1157      F1SBP4       R-SSC-5576894\n",
       "1158      F1SU60       R-SSC-5576894\n",
       "\n",
       "[1159 rows x 2 columns]"
      ]
     },
     "execution_count": 13,
     "metadata": {
      "tags": []
     },
     "output_type": "execute_result"
    }
   ],
   "source": [
    "protein_pathway_df = create_dataframe(main_file_name, hierarchy_file)\n",
    "protein_pathway_df"
   ]
  },
  {
   "cell_type": "code",
   "execution_count": null,
   "metadata": {
    "id": "-5Y6hsIguR22"
   },
   "outputs": [],
   "source": [
    "protein_pathway_df.to_json(\"cardiac_conduction.json\", orient = 'records')"
   ]
  },
  {
   "cell_type": "code",
   "execution_count": null,
   "metadata": {
    "id": "sP4LPXeV5zX4"
   },
   "outputs": [],
   "source": []
  }
 ],
 "metadata": {
  "colab": {
   "collapsed_sections": [],
   "name": "cardiac_conduction.ipynb",
   "provenance": []
  },
  "kernelspec": {
   "display_name": "Python 3",
   "language": "python",
   "name": "python3"
  },
  "language_info": {
   "codemirror_mode": {
    "name": "ipython",
    "version": 3
   },
   "file_extension": ".py",
   "mimetype": "text/x-python",
   "name": "python",
   "nbconvert_exporter": "python",
   "pygments_lexer": "ipython3",
   "version": "3.6.10"
  }
 },
 "nbformat": 4,
 "nbformat_minor": 1
}

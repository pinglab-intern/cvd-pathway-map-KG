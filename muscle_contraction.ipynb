{
  "nbformat": 4,
  "nbformat_minor": 0,
  "metadata": {
    "colab": {
      "name": "muscle_contraction.ipynb",
      "provenance": [],
      "collapsed_sections": [],
      "authorship_tag": "ABX9TyP1y6u6/KVRz721Gs/vowi3"
    },
    "kernelspec": {
      "name": "python3",
      "display_name": "Python 3"
    },
    "language_info": {
      "name": "python"
    }
  },
  "cells": [
    {
      "cell_type": "code",
      "metadata": {
        "colab": {
          "base_uri": "https://localhost:8080/"
        },
        "id": "rB7k7nBe_QBm",
        "outputId": "d8fa532f-dbe8-4b0b-e4a5-9cd4f7d4a2d9"
      },
      "source": [
        "# Connect notebook to Google Drive\n",
        "from google.colab import drive\n",
        "drive.mount('/content/drive', force_remount=True)"
      ],
      "execution_count": 1,
      "outputs": [
        {
          "output_type": "stream",
          "text": [
            "Mounted at /content/drive\n"
          ],
          "name": "stdout"
        }
      ]
    },
    {
      "cell_type": "code",
      "metadata": {
        "colab": {
          "base_uri": "https://localhost:8080/"
        },
        "id": "UYth9FsvDuKP",
        "outputId": "588aff6c-bad9-46d9-e4f4-eac2566b9462"
      },
      "source": [
        "# Navigate to the shared drive folder\n",
        "%cd /content/drive/'My Drive'/'Cardiovascular Knowledge Graph'\n",
        "!pwd\n",
        "!ls"
      ],
      "execution_count": 2,
      "outputs": [
        {
          "output_type": "stream",
          "text": [
            "/content/drive/My Drive/Cardiovascular Knowledge Graph\n",
            "/content/drive/My Drive/Cardiovascular Knowledge Graph\n",
            "cardiac_conduction.ipynb  filter_organism.ipynb     output\n",
            "data\t\t\t  muscle_contraction.ipynb\n"
          ],
          "name": "stdout"
        }
      ]
    },
    {
      "cell_type": "code",
      "metadata": {
        "colab": {
          "base_uri": "https://localhost:8080/"
        },
        "id": "gThBEtLvGDKK",
        "outputId": "5d2197da-f598-445e-da51-e8da02f4934d"
      },
      "source": [
        "%cd data"
      ],
      "execution_count": 11,
      "outputs": [
        {
          "output_type": "stream",
          "text": [
            "/content/drive/My Drive/Cardiovascular Knowledge Graph/data\n"
          ],
          "name": "stdout"
        }
      ]
    },
    {
      "cell_type": "code",
      "metadata": {
        "colab": {
          "base_uri": "https://localhost:8080/"
        },
        "id": "-PJ6RJzoHBDY",
        "outputId": "0c7310eb-170c-4e9d-cad3-e9445564f01b"
      },
      "source": [
        "!ls"
      ],
      "execution_count": 12,
      "outputs": [
        {
          "output_type": "stream",
          "text": [
            "ReactomePathwaysRelation.txt  UniProt2Reactome_All_Levels.txt\n"
          ],
          "name": "stdout"
        }
      ]
    },
    {
      "cell_type": "code",
      "metadata": {
        "id": "MzuJkLKEJyza"
      },
      "source": [
        "import pandas as pd\n",
        "import re\n",
        "import json\n",
        "\n",
        "def hierarchy_database():\n",
        "  \"\"\"\n",
        "  text file with pathway hierarchy\n",
        "  text file name: ReactomePathwaysRelation.txt\n",
        "  \"\"\"\n",
        "  hierarchy_file = 'ReactomePathwaysRelation.txt'\n",
        "  hierarchy_data = open(hierarchy_file, 'r')\n",
        "  database = []\n",
        "\n",
        "  for line in hierarchy_data:\n",
        "    database.append(line)\n",
        "\n",
        "  return database\n",
        "\n",
        "def uniprot_reactome_all_levels():\n",
        "  \"\"\"\n",
        "  text file with all levels of pathways\n",
        "  text file name: UniProt2Reactome_All_Levels.txt\n",
        "  \"\"\"\n",
        "  file_name = 'UniProt2Reactome_All_Levels.txt'\n",
        "  file_data = open(file_name, 'r')\n",
        "  database = []\n",
        "\n",
        "  for line in file_data:\n",
        "    database.append(line)\n",
        "  \n",
        "  return database\n",
        "\n",
        "def hierarchy_reverse(filtered_df):\n",
        "  \"\"\"\n",
        "  gets pathways and converts to general cardiac conduction pathway\n",
        "  \"\"\"\n",
        "  hierarchy_txt = hierarchy_database()\n",
        "  pathway_ids = list(filtered_df['Reactome Pathway ID'])\n",
        "  protein_ids = list(filtered_df['Protein ID'])\n",
        "\n",
        "  cardiac_ids = []\n",
        "\n",
        "  for pathway in pathway_ids:\n",
        "    for line in hierarchy_txt:\n",
        "      indice = None\n",
        "      t = line.split('\\t')\n",
        "      if pathway in t[1]:\n",
        "        indice = line.find('\\t')\n",
        "        cardiac_ids.append(line[0 : indice])\n",
        "  \n",
        "  muscle_pathways = []\n",
        "\n",
        "  for cardiac in cardiac_ids:\n",
        "    for line in hierarchy_txt:\n",
        "      indice = None\n",
        "      t = line.split('\\t')\n",
        "      if cardiac in t[1]:\n",
        "        indice = line.find('\\t')\n",
        "        muscle_pathways.append(line[0 : indice])\n",
        "\n",
        "  return muscle_pathways\n",
        "\n",
        "def protein_to_pathway(filtered_df):\n",
        "  muscle_pathway_ids = list(set(hierarchy_reverse(filtered_df)))\n",
        "  uniprot_reactome_txt = uniprot_reactome_all_levels()\n",
        "\n",
        "  proteins = [] #{protein accession : pathway ID}\n",
        "  pathways = []\n",
        "\n",
        "  for muscle in muscle_pathway_ids:\n",
        "    for line in uniprot_reactome_txt:\n",
        "      if muscle in line:\n",
        "        indice = [m.start() for m in re.finditer('\\t', line)]\n",
        "        proteins.append(line[0 : indice[0]])\n",
        "        pathways.append(muscle)\n",
        "    \n",
        "  d = {'Protein ID' : proteins,\n",
        "       'Reactome Pathway ID' : pathways}\n",
        "\n",
        "  return pd.DataFrame(data = d)"
      ],
      "execution_count": 28,
      "outputs": []
    },
    {
      "cell_type": "code",
      "metadata": {
        "colab": {
          "base_uri": "https://localhost:8080/",
          "height": 419
        },
        "id": "Zbr7L9EYJ8kx",
        "outputId": "173c4b3a-94ef-4f11-902d-696cdc9fc811"
      },
      "source": [
        "filtered_df = pd.read_csv(\"cardiac_conduction_filtered.csv\")\n",
        "filtered_df"
      ],
      "execution_count": 9,
      "outputs": [
        {
          "output_type": "execute_result",
          "data": {
            "text/html": [
              "<div>\n",
              "<style scoped>\n",
              "    .dataframe tbody tr th:only-of-type {\n",
              "        vertical-align: middle;\n",
              "    }\n",
              "\n",
              "    .dataframe tbody tr th {\n",
              "        vertical-align: top;\n",
              "    }\n",
              "\n",
              "    .dataframe thead th {\n",
              "        text-align: right;\n",
              "    }\n",
              "</style>\n",
              "<table border=\"1\" class=\"dataframe\">\n",
              "  <thead>\n",
              "    <tr style=\"text-align: right;\">\n",
              "      <th></th>\n",
              "      <th>Unnamed: 0</th>\n",
              "      <th>Protein ID</th>\n",
              "      <th>Reactome Pathway ID</th>\n",
              "    </tr>\n",
              "  </thead>\n",
              "  <tbody>\n",
              "    <tr>\n",
              "      <th>0</th>\n",
              "      <td>0</td>\n",
              "      <td>A0A0G2K548</td>\n",
              "      <td>R-RNO-5576890</td>\n",
              "    </tr>\n",
              "    <tr>\n",
              "      <th>1</th>\n",
              "      <td>1</td>\n",
              "      <td>A5HKJ1</td>\n",
              "      <td>R-RNO-5576890</td>\n",
              "    </tr>\n",
              "    <tr>\n",
              "      <th>2</th>\n",
              "      <td>2</td>\n",
              "      <td>O08962</td>\n",
              "      <td>R-RNO-5576890</td>\n",
              "    </tr>\n",
              "    <tr>\n",
              "      <th>3</th>\n",
              "      <td>3</td>\n",
              "      <td>P63161</td>\n",
              "      <td>R-RNO-5576890</td>\n",
              "    </tr>\n",
              "    <tr>\n",
              "      <th>4</th>\n",
              "      <td>4</td>\n",
              "      <td>Q71FD8</td>\n",
              "      <td>R-RNO-5576890</td>\n",
              "    </tr>\n",
              "    <tr>\n",
              "      <th>...</th>\n",
              "      <td>...</td>\n",
              "      <td>...</td>\n",
              "      <td>...</td>\n",
              "    </tr>\n",
              "    <tr>\n",
              "      <th>514</th>\n",
              "      <td>514</td>\n",
              "      <td>Q8BUW1</td>\n",
              "      <td>R-MMU-5576886</td>\n",
              "    </tr>\n",
              "    <tr>\n",
              "      <th>515</th>\n",
              "      <td>515</td>\n",
              "      <td>Q8JZN3</td>\n",
              "      <td>R-MMU-5576886</td>\n",
              "    </tr>\n",
              "    <tr>\n",
              "      <th>516</th>\n",
              "      <td>516</td>\n",
              "      <td>Q8R1P5</td>\n",
              "      <td>R-MMU-5576886</td>\n",
              "    </tr>\n",
              "    <tr>\n",
              "      <th>517</th>\n",
              "      <td>517</td>\n",
              "      <td>Q9JK62</td>\n",
              "      <td>R-MMU-5576886</td>\n",
              "    </tr>\n",
              "    <tr>\n",
              "      <th>518</th>\n",
              "      <td>518</td>\n",
              "      <td>Q9Z2T1</td>\n",
              "      <td>R-MMU-5576886</td>\n",
              "    </tr>\n",
              "  </tbody>\n",
              "</table>\n",
              "<p>519 rows × 3 columns</p>\n",
              "</div>"
            ],
            "text/plain": [
              "     Unnamed: 0  Protein ID Reactome Pathway ID\n",
              "0             0  A0A0G2K548       R-RNO-5576890\n",
              "1             1      A5HKJ1       R-RNO-5576890\n",
              "2             2      O08962       R-RNO-5576890\n",
              "3             3      P63161       R-RNO-5576890\n",
              "4             4      Q71FD8       R-RNO-5576890\n",
              "..          ...         ...                 ...\n",
              "514         514      Q8BUW1       R-MMU-5576886\n",
              "515         515      Q8JZN3       R-MMU-5576886\n",
              "516         516      Q8R1P5       R-MMU-5576886\n",
              "517         517      Q9JK62       R-MMU-5576886\n",
              "518         518      Q9Z2T1       R-MMU-5576886\n",
              "\n",
              "[519 rows x 3 columns]"
            ]
          },
          "metadata": {
            "tags": []
          },
          "execution_count": 9
        }
      ]
    },
    {
      "cell_type": "code",
      "metadata": {
        "colab": {
          "base_uri": "https://localhost:8080/"
        },
        "id": "Onysil56Kwxd",
        "outputId": "6fa61ac9-0adf-4f5d-aa82-dbe744b5b4d6"
      },
      "source": [
        "set(hierarchy_reverse(filtered_df))"
      ],
      "execution_count": 20,
      "outputs": [
        {
          "output_type": "execute_result",
          "data": {
            "text/plain": [
              "{'R-HSA-397014', 'R-MMU-397014', 'R-RNO-397014', 'R-SSC-397014'}"
            ]
          },
          "metadata": {
            "tags": []
          },
          "execution_count": 20
        }
      ]
    },
    {
      "cell_type": "code",
      "metadata": {
        "colab": {
          "base_uri": "https://localhost:8080/",
          "height": 419
        },
        "id": "VSZRSvesWvi_",
        "outputId": "d466954b-879d-4528-e530-37865c67982d"
      },
      "source": [
        "protein_muscle_df = protein_to_pathway(filtered_df)\n",
        "protein_muscle_df"
      ],
      "execution_count": 30,
      "outputs": [
        {
          "output_type": "execute_result",
          "data": {
            "text/html": [
              "<div>\n",
              "<style scoped>\n",
              "    .dataframe tbody tr th:only-of-type {\n",
              "        vertical-align: middle;\n",
              "    }\n",
              "\n",
              "    .dataframe tbody tr th {\n",
              "        vertical-align: top;\n",
              "    }\n",
              "\n",
              "    .dataframe thead th {\n",
              "        text-align: right;\n",
              "    }\n",
              "</style>\n",
              "<table border=\"1\" class=\"dataframe\">\n",
              "  <thead>\n",
              "    <tr style=\"text-align: right;\">\n",
              "      <th></th>\n",
              "      <th>Protein ID</th>\n",
              "      <th>Reactome Pathway ID</th>\n",
              "    </tr>\n",
              "  </thead>\n",
              "  <tbody>\n",
              "    <tr>\n",
              "      <th>0</th>\n",
              "      <td>A0A096MK15</td>\n",
              "      <td>R-RNO-397014</td>\n",
              "    </tr>\n",
              "    <tr>\n",
              "      <th>1</th>\n",
              "      <td>A0A0G2K0D3</td>\n",
              "      <td>R-RNO-397014</td>\n",
              "    </tr>\n",
              "    <tr>\n",
              "      <th>2</th>\n",
              "      <td>A0A0G2K2B5</td>\n",
              "      <td>R-RNO-397014</td>\n",
              "    </tr>\n",
              "    <tr>\n",
              "      <th>3</th>\n",
              "      <td>A0A0G2K2W5</td>\n",
              "      <td>R-RNO-397014</td>\n",
              "    </tr>\n",
              "    <tr>\n",
              "      <th>4</th>\n",
              "      <td>A0A0G2K548</td>\n",
              "      <td>R-RNO-397014</td>\n",
              "    </tr>\n",
              "    <tr>\n",
              "      <th>...</th>\n",
              "      <td>...</td>\n",
              "      <td>...</td>\n",
              "    </tr>\n",
              "    <tr>\n",
              "      <th>673</th>\n",
              "      <td>Q9Y490</td>\n",
              "      <td>R-HSA-397014</td>\n",
              "    </tr>\n",
              "    <tr>\n",
              "      <th>674</th>\n",
              "      <td>Q9Y5Q5</td>\n",
              "      <td>R-HSA-397014</td>\n",
              "    </tr>\n",
              "    <tr>\n",
              "      <th>675</th>\n",
              "      <td>Q9Y5Y9</td>\n",
              "      <td>R-HSA-397014</td>\n",
              "    </tr>\n",
              "    <tr>\n",
              "      <th>676</th>\n",
              "      <td>Q9Y6H6</td>\n",
              "      <td>R-HSA-397014</td>\n",
              "    </tr>\n",
              "    <tr>\n",
              "      <th>677</th>\n",
              "      <td>Q9Y6J6</td>\n",
              "      <td>R-HSA-397014</td>\n",
              "    </tr>\n",
              "  </tbody>\n",
              "</table>\n",
              "<p>678 rows × 2 columns</p>\n",
              "</div>"
            ],
            "text/plain": [
              "     Protein ID Reactome Pathway ID\n",
              "0    A0A096MK15        R-RNO-397014\n",
              "1    A0A0G2K0D3        R-RNO-397014\n",
              "2    A0A0G2K2B5        R-RNO-397014\n",
              "3    A0A0G2K2W5        R-RNO-397014\n",
              "4    A0A0G2K548        R-RNO-397014\n",
              "..          ...                 ...\n",
              "673      Q9Y490        R-HSA-397014\n",
              "674      Q9Y5Q5        R-HSA-397014\n",
              "675      Q9Y5Y9        R-HSA-397014\n",
              "676      Q9Y6H6        R-HSA-397014\n",
              "677      Q9Y6J6        R-HSA-397014\n",
              "\n",
              "[678 rows x 2 columns]"
            ]
          },
          "metadata": {
            "tags": []
          },
          "execution_count": 30
        }
      ]
    },
    {
      "cell_type": "code",
      "metadata": {
        "id": "LpORuEwibn9U"
      },
      "source": [
        "protein_muscle_df.to_csv(\"muscle_contraction_filtered.csv\")"
      ],
      "execution_count": 31,
      "outputs": []
    },
    {
      "cell_type": "code",
      "metadata": {
        "id": "S6_uqzXkcuuX"
      },
      "source": [
        "protein_muscle_df.to_json(\"muscle_contraction_filtered.json\", orient = 'records')"
      ],
      "execution_count": 32,
      "outputs": []
    },
    {
      "cell_type": "code",
      "metadata": {
        "id": "HCjRbkq1c2GN"
      },
      "source": [
        ""
      ],
      "execution_count": null,
      "outputs": []
    }
  ]
}